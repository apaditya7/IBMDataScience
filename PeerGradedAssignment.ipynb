{
 "cells": [
  {
   "cell_type": "markdown",
   "id": "c862f2a5-71db-4f65-b7f1-a5cc4ce468c2",
   "metadata": {},
   "source": [
    "## Peer Graded Assignment ##"
   ]
  },
  {
   "cell_type": "markdown",
   "id": "492d6c01-44fb-4244-8e6e-d0e958ca157c",
   "metadata": {},
   "source": [
    "This is the markdown cell for the introduction"
   ]
  },
  {
   "cell_type": "markdown",
   "id": "4aa53e0c-f980-42b1-a784-a26aa2dee0f6",
   "metadata": {},
   "source": [
    "The main data science languages are Python, SQL and R. Additionally Julia, Java, Javascript and C++ are also used for data science"
   ]
  },
  {
   "cell_type": "markdown",
   "id": "ee34c962-b964-4b43-8c40-d951a9135a03",
   "metadata": {},
   "source": [
    "Data science libraries include pandas,numpy,scipy,tensorflow,pytorch,seaborn and matplotlib"
   ]
  },
  {
   "cell_type": "markdown",
   "id": "f8823c3d-e76e-463b-a7bd-ea7fabd9073e",
   "metadata": {},
   "source": [
    "| Tool Name    | Primary Use                             |\n",
    "|--------------|-----------------------------------------|\n",
    "| Python       | General programming and data analysis   |\n",
    "| R            | Statistical analysis                    |\n",
    "| Jupyter      | Interactive notebooks for coding        |\n",
    "| Apache Spark | Large-scale data processing             |\n",
    "| Tableau      | Data visualization                      |\n",
    "| SQL          | Database management                     |\n",
    "| TensorFlow   | Machine learning and neural networks    |\n",
    "| Scikit-learn | Machine learning algorithms for Python  |"
   ]
  },
  {
   "cell_type": "markdown",
   "id": "70ff6462-7543-4c72-8742-a8baa9d53e3e",
   "metadata": {},
   "source": [
    "Calculate the sum of one plus one"
   ]
  },
  {
   "cell_type": "code",
   "execution_count": 1,
   "id": "bee4dadc-decc-4c31-9cc5-31248b71b77f",
   "metadata": {},
   "outputs": [
    {
     "data": {
      "text/plain": [
       "2"
      ]
     },
     "execution_count": 1,
     "metadata": {},
     "output_type": "execute_result"
    }
   ],
   "source": [
    "1+1"
   ]
  },
  {
   "cell_type": "markdown",
   "id": "04c3dbe4-9c42-44bc-a725-762eddee7623",
   "metadata": {},
   "source": [
    "Multiply 2 times 2"
   ]
  },
  {
   "cell_type": "code",
   "execution_count": 2,
   "id": "2b66e7ae-ccfe-49b0-b2c2-4d8f49630db6",
   "metadata": {},
   "outputs": [
    {
     "data": {
      "text/plain": [
       "4"
      ]
     },
     "execution_count": 2,
     "metadata": {},
     "output_type": "execute_result"
    }
   ],
   "source": [
    "2*2"
   ]
  },
  {
   "cell_type": "code",
   "execution_count": 3,
   "id": "ed7152ac-c950-42d7-bb3b-1fbe8c68fa2b",
   "metadata": {},
   "outputs": [],
   "source": [
    "minutes = 240\n",
    "hours = minutes/60\n"
   ]
  },
  {
   "cell_type": "code",
   "execution_count": 4,
   "id": "21acf2a8-0a4d-486e-9497-7a02ad668250",
   "metadata": {},
   "outputs": [
    {
     "data": {
      "text/plain": [
       "4.0"
      ]
     },
     "execution_count": 4,
     "metadata": {},
     "output_type": "execute_result"
    }
   ],
   "source": [
    "hours"
   ]
  },
  {
   "cell_type": "markdown",
   "id": "7b3ca145-2c28-4e6b-9c5b-32c43fc93508",
   "metadata": {},
   "source": [
    "List Objectives"
   ]
  },
  {
   "cell_type": "markdown",
   "id": "5a0c6af7-fd58-45bd-9b6c-8fc68869aad7",
   "metadata": {},
   "source": [
    "Name : Anand Pramod Aditya"
   ]
  },
  {
   "cell_type": "code",
   "execution_count": null,
   "id": "4afb9c6f-093b-489c-a222-8817e5018cf3",
   "metadata": {},
   "outputs": [],
   "source": []
  }
 ],
 "metadata": {
  "kernelspec": {
   "display_name": "Python (base)",
   "language": "python",
   "name": "base"
  },
  "language_info": {
   "codemirror_mode": {
    "name": "ipython",
    "version": 3
   },
   "file_extension": ".py",
   "mimetype": "text/x-python",
   "name": "python",
   "nbconvert_exporter": "python",
   "pygments_lexer": "ipython3",
   "version": "3.10.14"
  }
 },
 "nbformat": 4,
 "nbformat_minor": 5
}
